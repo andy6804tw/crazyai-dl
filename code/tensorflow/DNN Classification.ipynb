{
 "cells": [
  {
   "cell_type": "markdown",
   "id": "5a3f0a5c-c6ed-4fd2-99c0-8f354b58f18f",
   "metadata": {},
   "source": [
    "# 深度神經網路（DNN）分類基礎教學\n",
    "\n",
    "在這份教學中，我們將介紹如何使用 TensorFlow 來建構一個基礎的深度神經網路（DNN）進行分類任務。分類問題是機器學習中的一種重要任務，主要用於預測樣本屬於哪一個類別，例如圖片分類、垃圾郵件過濾等。在這裡，我們將一步步地帶領你學習如何從資料處理、模型構建到模型訓練，逐步掌握 DNN 分類的核心概念。\n",
    "\n",
    "## 1. 載入套件\n",
    "\n",
    "首先，我們匯入必要的套件："
   ]
  },
  {
   "cell_type": "code",
   "execution_count": 1,
   "id": "65f5692a-b42f-4e84-8531-611479e7cd2e",
   "metadata": {
    "tags": []
   },
   "outputs": [
    {
     "name": "stderr",
     "output_type": "stream",
     "text": [
      "2024-10-26 15:01:19.518389: I tensorflow/tsl/cuda/cudart_stub.cc:28] Could not find cuda drivers on your machine, GPU will not be used.\n",
      "2024-10-26 15:01:19.556731: E tensorflow/compiler/xla/stream_executor/cuda/cuda_dnn.cc:9342] Unable to register cuDNN factory: Attempting to register factory for plugin cuDNN when one has already been registered\n",
      "2024-10-26 15:01:19.556757: E tensorflow/compiler/xla/stream_executor/cuda/cuda_fft.cc:609] Unable to register cuFFT factory: Attempting to register factory for plugin cuFFT when one has already been registered\n",
      "2024-10-26 15:01:19.556787: E tensorflow/compiler/xla/stream_executor/cuda/cuda_blas.cc:1518] Unable to register cuBLAS factory: Attempting to register factory for plugin cuBLAS when one has already been registered\n",
      "2024-10-26 15:01:19.564285: I tensorflow/tsl/cuda/cudart_stub.cc:28] Could not find cuda drivers on your machine, GPU will not be used.\n",
      "2024-10-26 15:01:19.564791: I tensorflow/core/platform/cpu_feature_guard.cc:182] This TensorFlow binary is optimized to use available CPU instructions in performance-critical operations.\n",
      "To enable the following instructions: AVX2 FMA, in other operations, rebuild TensorFlow with the appropriate compiler flags.\n",
      "2024-10-26 15:01:20.491138: W tensorflow/compiler/tf2tensorrt/utils/py_utils.cc:38] TF-TRT Warning: Could not find TensorRT\n"
     ]
    }
   ],
   "source": [
    "import tensorflow as tf\n",
    "import numpy as np\n",
    "import pandas as pd\n",
    "import matplotlib.pyplot as plt"
   ]
  },
  {
   "cell_type": "markdown",
   "id": "f1d77936-d9ae-42ae-8e9b-f99c9127c312",
   "metadata": {},
   "source": [
    "## 2. 資料準備\n",
    "在分類任務中，我們需要一組帶標籤的數據集。在這裡，我們將使用經典鳶尾花數據集（Iris Dataset），這是一個包含三個類別的數據集，用於預測鳶尾花的種類。"
   ]
  },
  {
   "cell_type": "code",
   "execution_count": 2,
   "id": "683a3b19-4b66-47c3-8d48-4bf1ba4ec44a",
   "metadata": {
    "tags": []
   },
   "outputs": [],
   "source": [
    "# 載入鳶尾花數據集\n",
    "from sklearn.datasets import load_iris\n",
    "from sklearn.model_selection import train_test_split\n",
    "from sklearn.preprocessing import StandardScaler\n",
    "\n",
    "# 取得資料\n",
    "iris = load_iris()\n",
    "x = iris.data\n",
    "y = iris.target\n",
    "\n",
    "# 將數據分為訓練集和測試集\n",
    "x_train, x_test, y_train, y_test = train_test_split(x, y, test_size=0.2, random_state=42)\n",
    "\n",
    "# 標準化數據\n",
    "scaler = StandardScaler()\n",
    "x_train = scaler.fit_transform(x_train)\n",
    "x_test = scaler.transform(x_test)"
   ]
  },
  {
   "cell_type": "markdown",
   "id": "6aef40a4-6482-4188-bd3a-b4979a5d0441",
   "metadata": {},
   "source": [
    "這段程式使用 scikit-learn 來載入鳶尾花數據集，並將其分為訓練集和測試集，最後使用 `StandardScaler` 進行標準化處理，讓數據在訓練時能更快收斂。"
   ]
  },
  {
   "cell_type": "markdown",
   "id": "8c437b45-b813-4e67-a5be-2d0d5f3edeb6",
   "metadata": {},
   "source": [
    "## 3. 建構 DNN 模型\n",
    "接下來，我們來建構一個簡單的深度神經網路模型。這個模型將包含兩層全連接層，用於分類三個鳶尾花的類別。"
   ]
  },
  {
   "cell_type": "code",
   "execution_count": 3,
   "id": "536333c6-1063-4081-9b2c-04eca1465360",
   "metadata": {
    "tags": []
   },
   "outputs": [
    {
     "name": "stderr",
     "output_type": "stream",
     "text": [
      "2024-10-26 15:01:59.181852: E tensorflow/compiler/xla/stream_executor/cuda/cuda_driver.cc:268] failed call to cuInit: CUDA_ERROR_NO_DEVICE: no CUDA-capable device is detected\n"
     ]
    }
   ],
   "source": [
    "# 建構 DNN 模型\n",
    "model = tf.keras.Sequential([\n",
    "    tf.keras.layers.InputLayer(input_shape=(4,)),\n",
    "    tf.keras.layers.Dense(16, activation='relu'),\n",
    "    tf.keras.layers.Dense(16, activation='relu'),\n",
    "    tf.keras.layers.Dense(3, activation='softmax')\n",
    "])\n",
    "\n",
    "# 編譯模型\n",
    "model.compile(optimizer='adam', loss='sparse_categorical_crossentropy', metrics=['accuracy'])"
   ]
  },
  {
   "cell_type": "markdown",
   "id": "8361bf8b-2b37-427b-b53b-da9f6386245f",
   "metadata": {},
   "source": [
    "在這裡，我們使用了 `tf.keras.Sequential` 來建立模型，包含兩層隱藏層，每層有 16 個神經元，並使用 ReLU 作激發函數。最後一層是輸出層，有三個神經元，使用 Softmax 激發函數來進行分類。損失函數選擇了 `sparse_categorical_crossentropy`，適合用於多類別分類問題。"
   ]
  },
  {
   "cell_type": "markdown",
   "id": "2142b8da-b954-410c-b4b5-28a46c2f0448",
   "metadata": {},
   "source": [
    "## 4. 模型訓練\n",
    "我們已經建構了模型，接下來我們將模型與數據進行訓練。這段程式將模型訓練 100 個 epoch，每次使用 10 個數據進行更新。"
   ]
  },
  {
   "cell_type": "code",
   "execution_count": 4,
   "id": "31571c9c-43c5-4e95-9f29-b919cee9c96e",
   "metadata": {
    "tags": []
   },
   "outputs": [
    {
     "name": "stdout",
     "output_type": "stream",
     "text": [
      "Epoch 1/100\n",
      "12/12 [==============================] - 1s 1ms/step - loss: 0.9643 - accuracy: 0.5583\n",
      "Epoch 2/100\n",
      "12/12 [==============================] - 0s 1ms/step - loss: 0.8679 - accuracy: 0.7583\n",
      "Epoch 3/100\n",
      "12/12 [==============================] - 0s 1ms/step - loss: 0.8010 - accuracy: 0.7917\n",
      "Epoch 4/100\n",
      "12/12 [==============================] - 0s 1ms/step - loss: 0.7455 - accuracy: 0.8250\n",
      "Epoch 5/100\n",
      "12/12 [==============================] - 0s 1ms/step - loss: 0.6994 - accuracy: 0.8333\n",
      "Epoch 6/100\n",
      "12/12 [==============================] - 0s 1ms/step - loss: 0.6577 - accuracy: 0.8583\n",
      "Epoch 7/100\n",
      "12/12 [==============================] - 0s 1ms/step - loss: 0.6186 - accuracy: 0.8333\n",
      "Epoch 8/100\n",
      "12/12 [==============================] - 0s 1ms/step - loss: 0.5807 - accuracy: 0.8500\n",
      "Epoch 9/100\n",
      "12/12 [==============================] - 0s 1ms/step - loss: 0.5455 - accuracy: 0.8500\n",
      "Epoch 10/100\n",
      "12/12 [==============================] - 0s 1ms/step - loss: 0.5112 - accuracy: 0.8583\n",
      "Epoch 11/100\n",
      "12/12 [==============================] - 0s 1ms/step - loss: 0.4811 - accuracy: 0.8583\n",
      "Epoch 12/100\n",
      "12/12 [==============================] - 0s 1ms/step - loss: 0.4519 - accuracy: 0.8583\n",
      "Epoch 13/100\n",
      "12/12 [==============================] - 0s 1ms/step - loss: 0.4277 - accuracy: 0.8583\n",
      "Epoch 14/100\n",
      "12/12 [==============================] - 0s 1ms/step - loss: 0.4063 - accuracy: 0.8583\n",
      "Epoch 15/100\n",
      "12/12 [==============================] - 0s 1ms/step - loss: 0.3854 - accuracy: 0.8667\n",
      "Epoch 16/100\n",
      "12/12 [==============================] - 0s 1ms/step - loss: 0.3648 - accuracy: 0.8667\n",
      "Epoch 17/100\n",
      "12/12 [==============================] - 0s 1ms/step - loss: 0.3473 - accuracy: 0.8750\n",
      "Epoch 18/100\n",
      "12/12 [==============================] - 0s 1ms/step - loss: 0.3315 - accuracy: 0.8833\n",
      "Epoch 19/100\n",
      "12/12 [==============================] - 0s 1ms/step - loss: 0.3158 - accuracy: 0.8917\n",
      "Epoch 20/100\n",
      "12/12 [==============================] - 0s 1ms/step - loss: 0.3030 - accuracy: 0.8917\n",
      "Epoch 21/100\n",
      "12/12 [==============================] - 0s 1ms/step - loss: 0.2908 - accuracy: 0.8917\n",
      "Epoch 22/100\n",
      "12/12 [==============================] - 0s 1ms/step - loss: 0.2787 - accuracy: 0.8917\n",
      "Epoch 23/100\n",
      "12/12 [==============================] - 0s 1ms/step - loss: 0.2696 - accuracy: 0.9083\n",
      "Epoch 24/100\n",
      "12/12 [==============================] - 0s 1ms/step - loss: 0.2582 - accuracy: 0.9167\n",
      "Epoch 25/100\n",
      "12/12 [==============================] - 0s 1ms/step - loss: 0.2485 - accuracy: 0.9167\n",
      "Epoch 26/100\n",
      "12/12 [==============================] - 0s 1ms/step - loss: 0.2385 - accuracy: 0.9250\n",
      "Epoch 27/100\n",
      "12/12 [==============================] - 0s 1ms/step - loss: 0.2300 - accuracy: 0.9333\n",
      "Epoch 28/100\n",
      "12/12 [==============================] - 0s 1ms/step - loss: 0.2214 - accuracy: 0.9333\n",
      "Epoch 29/100\n",
      "12/12 [==============================] - 0s 1ms/step - loss: 0.2127 - accuracy: 0.9417\n",
      "Epoch 30/100\n",
      "12/12 [==============================] - 0s 1ms/step - loss: 0.2064 - accuracy: 0.9417\n",
      "Epoch 31/100\n",
      "12/12 [==============================] - 0s 1ms/step - loss: 0.1964 - accuracy: 0.9417\n",
      "Epoch 32/100\n",
      "12/12 [==============================] - 0s 1ms/step - loss: 0.1896 - accuracy: 0.9500\n",
      "Epoch 33/100\n",
      "12/12 [==============================] - 0s 1ms/step - loss: 0.1826 - accuracy: 0.9583\n",
      "Epoch 34/100\n",
      "12/12 [==============================] - 0s 1ms/step - loss: 0.1759 - accuracy: 0.9583\n",
      "Epoch 35/100\n",
      "12/12 [==============================] - 0s 1ms/step - loss: 0.1699 - accuracy: 0.9583\n",
      "Epoch 36/100\n",
      "12/12 [==============================] - 0s 1ms/step - loss: 0.1649 - accuracy: 0.9500\n",
      "Epoch 37/100\n",
      "12/12 [==============================] - 0s 1ms/step - loss: 0.1590 - accuracy: 0.9583\n",
      "Epoch 38/100\n",
      "12/12 [==============================] - 0s 1ms/step - loss: 0.1534 - accuracy: 0.9583\n",
      "Epoch 39/100\n",
      "12/12 [==============================] - 0s 1ms/step - loss: 0.1497 - accuracy: 0.9667\n",
      "Epoch 40/100\n",
      "12/12 [==============================] - 0s 1ms/step - loss: 0.1442 - accuracy: 0.9583\n",
      "Epoch 41/100\n",
      "12/12 [==============================] - 0s 1ms/step - loss: 0.1397 - accuracy: 0.9583\n",
      "Epoch 42/100\n",
      "12/12 [==============================] - 0s 1ms/step - loss: 0.1350 - accuracy: 0.9583\n",
      "Epoch 43/100\n",
      "12/12 [==============================] - 0s 1ms/step - loss: 0.1317 - accuracy: 0.9583\n",
      "Epoch 44/100\n",
      "12/12 [==============================] - 0s 1ms/step - loss: 0.1272 - accuracy: 0.9583\n",
      "Epoch 45/100\n",
      "12/12 [==============================] - 0s 1ms/step - loss: 0.1240 - accuracy: 0.9583\n",
      "Epoch 46/100\n",
      "12/12 [==============================] - 0s 1ms/step - loss: 0.1219 - accuracy: 0.9583\n",
      "Epoch 47/100\n",
      "12/12 [==============================] - 0s 1ms/step - loss: 0.1179 - accuracy: 0.9583\n",
      "Epoch 48/100\n",
      "12/12 [==============================] - 0s 1ms/step - loss: 0.1141 - accuracy: 0.9583\n",
      "Epoch 49/100\n",
      "12/12 [==============================] - 0s 1ms/step - loss: 0.1126 - accuracy: 0.9583\n",
      "Epoch 50/100\n",
      "12/12 [==============================] - 0s 1ms/step - loss: 0.1085 - accuracy: 0.9583\n",
      "Epoch 51/100\n",
      "12/12 [==============================] - 0s 1ms/step - loss: 0.1064 - accuracy: 0.9667\n",
      "Epoch 52/100\n",
      "12/12 [==============================] - 0s 1ms/step - loss: 0.1039 - accuracy: 0.9750\n",
      "Epoch 53/100\n",
      "12/12 [==============================] - 0s 1ms/step - loss: 0.1015 - accuracy: 0.9667\n",
      "Epoch 54/100\n",
      "12/12 [==============================] - 0s 1ms/step - loss: 0.1031 - accuracy: 0.9583\n",
      "Epoch 55/100\n",
      "12/12 [==============================] - 0s 1ms/step - loss: 0.1021 - accuracy: 0.9667\n",
      "Epoch 56/100\n",
      "12/12 [==============================] - 0s 1ms/step - loss: 0.0954 - accuracy: 0.9667\n",
      "Epoch 57/100\n",
      "12/12 [==============================] - 0s 1ms/step - loss: 0.0944 - accuracy: 0.9667\n",
      "Epoch 58/100\n",
      "12/12 [==============================] - 0s 1ms/step - loss: 0.0912 - accuracy: 0.9667\n",
      "Epoch 59/100\n",
      "12/12 [==============================] - 0s 1ms/step - loss: 0.0893 - accuracy: 0.9667\n",
      "Epoch 60/100\n",
      "12/12 [==============================] - 0s 1ms/step - loss: 0.0875 - accuracy: 0.9667\n",
      "Epoch 61/100\n",
      "12/12 [==============================] - 0s 1ms/step - loss: 0.0857 - accuracy: 0.9667\n",
      "Epoch 62/100\n",
      "12/12 [==============================] - 0s 1ms/step - loss: 0.0844 - accuracy: 0.9667\n",
      "Epoch 63/100\n",
      "12/12 [==============================] - 0s 1ms/step - loss: 0.0832 - accuracy: 0.9667\n",
      "Epoch 64/100\n",
      "12/12 [==============================] - 0s 1ms/step - loss: 0.0815 - accuracy: 0.9667\n",
      "Epoch 65/100\n",
      "12/12 [==============================] - 0s 1ms/step - loss: 0.0798 - accuracy: 0.9667\n",
      "Epoch 66/100\n",
      "12/12 [==============================] - 0s 1ms/step - loss: 0.0785 - accuracy: 0.9667\n",
      "Epoch 67/100\n",
      "12/12 [==============================] - 0s 1ms/step - loss: 0.0776 - accuracy: 0.9667\n",
      "Epoch 68/100\n",
      "12/12 [==============================] - 0s 1ms/step - loss: 0.0763 - accuracy: 0.9667\n",
      "Epoch 69/100\n",
      "12/12 [==============================] - 0s 1ms/step - loss: 0.0763 - accuracy: 0.9667\n",
      "Epoch 70/100\n",
      "12/12 [==============================] - 0s 1ms/step - loss: 0.0737 - accuracy: 0.9750\n",
      "Epoch 71/100\n",
      "12/12 [==============================] - 0s 1ms/step - loss: 0.0726 - accuracy: 0.9667\n",
      "Epoch 72/100\n",
      "12/12 [==============================] - 0s 1ms/step - loss: 0.0721 - accuracy: 0.9667\n",
      "Epoch 73/100\n",
      "12/12 [==============================] - 0s 1ms/step - loss: 0.0709 - accuracy: 0.9667\n",
      "Epoch 74/100\n",
      "12/12 [==============================] - 0s 1ms/step - loss: 0.0700 - accuracy: 0.9667\n",
      "Epoch 75/100\n",
      "12/12 [==============================] - 0s 1ms/step - loss: 0.0692 - accuracy: 0.9667\n",
      "Epoch 76/100\n",
      "12/12 [==============================] - 0s 1ms/step - loss: 0.0692 - accuracy: 0.9667\n",
      "Epoch 77/100\n",
      "12/12 [==============================] - 0s 1ms/step - loss: 0.0676 - accuracy: 0.9667\n",
      "Epoch 78/100\n",
      "12/12 [==============================] - 0s 1ms/step - loss: 0.0669 - accuracy: 0.9667\n",
      "Epoch 79/100\n",
      "12/12 [==============================] - 0s 1ms/step - loss: 0.0665 - accuracy: 0.9667\n",
      "Epoch 80/100\n",
      "12/12 [==============================] - 0s 1ms/step - loss: 0.0659 - accuracy: 0.9750\n",
      "Epoch 81/100\n",
      "12/12 [==============================] - 0s 1ms/step - loss: 0.0653 - accuracy: 0.9750\n",
      "Epoch 82/100\n",
      "12/12 [==============================] - 0s 1ms/step - loss: 0.0661 - accuracy: 0.9750\n",
      "Epoch 83/100\n",
      "12/12 [==============================] - 0s 1ms/step - loss: 0.0638 - accuracy: 0.9750\n",
      "Epoch 84/100\n",
      "12/12 [==============================] - 0s 1ms/step - loss: 0.0655 - accuracy: 0.9833\n",
      "Epoch 85/100\n",
      "12/12 [==============================] - 0s 1ms/step - loss: 0.0630 - accuracy: 0.9833\n",
      "Epoch 86/100\n",
      "12/12 [==============================] - 0s 1ms/step - loss: 0.0621 - accuracy: 0.9833\n",
      "Epoch 87/100\n",
      "12/12 [==============================] - 0s 1ms/step - loss: 0.0638 - accuracy: 0.9750\n",
      "Epoch 88/100\n",
      "12/12 [==============================] - 0s 1ms/step - loss: 0.0616 - accuracy: 0.9750\n",
      "Epoch 89/100\n",
      "12/12 [==============================] - 0s 1ms/step - loss: 0.0607 - accuracy: 0.9750\n",
      "Epoch 90/100\n",
      "12/12 [==============================] - 0s 1ms/step - loss: 0.0621 - accuracy: 0.9750\n",
      "Epoch 91/100\n",
      "12/12 [==============================] - 0s 1ms/step - loss: 0.0601 - accuracy: 0.9750\n",
      "Epoch 92/100\n",
      "12/12 [==============================] - 0s 1ms/step - loss: 0.0604 - accuracy: 0.9833\n",
      "Epoch 93/100\n",
      "12/12 [==============================] - 0s 1ms/step - loss: 0.0604 - accuracy: 0.9833\n",
      "Epoch 94/100\n",
      "12/12 [==============================] - 0s 1ms/step - loss: 0.0587 - accuracy: 0.9750\n",
      "Epoch 95/100\n",
      "12/12 [==============================] - 0s 1ms/step - loss: 0.0610 - accuracy: 0.9833\n",
      "Epoch 96/100\n",
      "12/12 [==============================] - 0s 1ms/step - loss: 0.0590 - accuracy: 0.9750\n",
      "Epoch 97/100\n",
      "12/12 [==============================] - 0s 1ms/step - loss: 0.0580 - accuracy: 0.9750\n",
      "Epoch 98/100\n",
      "12/12 [==============================] - 0s 1ms/step - loss: 0.0575 - accuracy: 0.9750\n",
      "Epoch 99/100\n",
      "12/12 [==============================] - 0s 1ms/step - loss: 0.0570 - accuracy: 0.9833\n",
      "Epoch 100/100\n",
      "12/12 [==============================] - 0s 1ms/step - loss: 0.0566 - accuracy: 0.9833\n"
     ]
    },
    {
     "data": {
      "text/plain": [
       "<keras.src.callbacks.History at 0x7f96ac2bdaf0>"
      ]
     },
     "execution_count": 4,
     "metadata": {},
     "output_type": "execute_result"
    }
   ],
   "source": [
    "# 訓練模型\n",
    "model.fit(x_train, y_train, epochs=100, batch_size=10, verbose=1)"
   ]
  },
  {
   "cell_type": "markdown",
   "id": "257b134b-7bce-421b-ae41-3d910c5f0f39",
   "metadata": {},
   "source": [
    "透過調整 epoch 和 batch_size 的值，我們可以控制模型訓練的速度和效果。"
   ]
  },
  {
   "cell_type": "markdown",
   "id": "d5b59942-61d7-43f4-b3e1-cddeb3eebeff",
   "metadata": {},
   "source": [
    "## 5. 模型評估與預測\n",
    "訓練完模型後，我們可以使用它來進行預測，並評估模型的效果。這段程式碼首先評估了模型在測試數據上的表現，並使用訓練好的模型對新數據進行預測。"
   ]
  },
  {
   "cell_type": "code",
   "execution_count": 5,
   "id": "2b44fd7e-4672-4467-b628-6c368ce7c944",
   "metadata": {
    "tags": []
   },
   "outputs": [
    {
     "name": "stdout",
     "output_type": "stream",
     "text": [
      "1/1 [==============================] - 0s 131ms/step - loss: 0.0286 - accuracy: 1.0000\n",
      "模型損失（Loss）：0.028565410524606705, 準確率（Accuracy）：1.0\n",
      "1/1 [==============================] - 0s 60ms/step\n",
      "預測的類別：1\n"
     ]
    }
   ],
   "source": [
    "# 評估模型效果\n",
    "loss, accuracy = model.evaluate(x_test, y_test)\n",
    "print(f'模型損失（Loss）：{loss}, 準確率（Accuracy）：{accuracy}')\n",
    "\n",
    "# 進行預測\n",
    "sample = np.array([[5.0, 3.6, 1.4, 0.2]])  # 一筆測試數據\n",
    "predicted_class = model.predict(sample)\n",
    "print(f'預測的類別：{np.argmax(predicted_class)}')"
   ]
  },
  {
   "cell_type": "markdown",
   "id": "28f32714-c455-4925-944f-a250e79de72e",
   "metadata": {},
   "source": [
    "這段程式碼使用模型對測試數據進行評估，並計算損失和準確率，最後使用模型對新的數據樣本進行分類預測。"
   ]
  },
  {
   "cell_type": "markdown",
   "id": "c9097ee2-cb94-4625-aad7-09f94526cd7d",
   "metadata": {},
   "source": [
    "## 6. 模型保存與輸出\n",
    "最後，我們可以將訓練好的模型保存起來，以便日後使用或部署。這段程式將模型保存為 SavedModel 格式，以便在生產環境中使用。"
   ]
  },
  {
   "cell_type": "code",
   "execution_count": 6,
   "id": "f7c234df-2313-433e-9f09-2143957ffe8e",
   "metadata": {
    "tags": []
   },
   "outputs": [
    {
     "name": "stdout",
     "output_type": "stream",
     "text": [
      "INFO:tensorflow:Assets written to: dnn_classification_model/assets\n"
     ]
    },
    {
     "name": "stderr",
     "output_type": "stream",
     "text": [
      "INFO:tensorflow:Assets written to: dnn_classification_model/assets\n"
     ]
    },
    {
     "name": "stdout",
     "output_type": "stream",
     "text": [
      "模型已成功保存至 dnn_classification_model\n"
     ]
    }
   ],
   "source": [
    "# 保存模型\n",
    "model.save('dnn_classification_model')\n",
    "print('模型已成功保存至 dnn_classification_model')"
   ]
  },
  {
   "cell_type": "code",
   "execution_count": 7,
   "id": "6d8afb9b-f21a-4b4b-95b0-230427962b91",
   "metadata": {
    "tags": []
   },
   "outputs": [
    {
     "name": "stdout",
     "output_type": "stream",
     "text": [
      "模型已成功載入\n",
      "1/1 [==============================] - 0s 41ms/step\n",
      "當輸入樣本為 [[5.  3.6 1.4 0.2]] 時，預測的類別為：1\n"
     ]
    }
   ],
   "source": [
    "# 載入模型並進行推論\n",
    "loaded_model = tf.keras.models.load_model('dnn_classification_model')\n",
    "print('模型已成功載入')\n",
    "\n",
    "# 使用載入的模型進行推論\n",
    "predicted_class = loaded_model.predict(sample)\n",
    "print(f'當輸入樣本為 {sample} 時，預測的類別為：{np.argmax(predicted_class)}')"
   ]
  },
  {
   "cell_type": "markdown",
   "id": "326bc9ed-d3f6-4e32-ad02-e6be4839c941",
   "metadata": {},
   "source": [
    "## 結論\n",
    "在本教學中，我們學會了如何使用 TensorFlow 構建一個簡單的深度神經網路來進行分類任務。我們從資料準備開始，一直到模型建構、訓練和評估，完整地了解了整個過程。接下來，你可以嘗試使用其他不同的資料集或改變模型結構，來進一步提高模型的準確度和效果。"
   ]
  },
  {
   "cell_type": "code",
   "execution_count": null,
   "id": "03f6f35a-e177-4035-a3f1-f235ceebc99c",
   "metadata": {},
   "outputs": [],
   "source": []
  }
 ],
 "metadata": {
  "kernelspec": {
   "display_name": "Python 3 (ipykernel)",
   "language": "python",
   "name": "python3"
  },
  "language_info": {
   "codemirror_mode": {
    "name": "ipython",
    "version": 3
   },
   "file_extension": ".py",
   "mimetype": "text/x-python",
   "name": "python",
   "nbconvert_exporter": "python",
   "pygments_lexer": "ipython3",
   "version": "3.9.18"
  }
 },
 "nbformat": 4,
 "nbformat_minor": 5
}
